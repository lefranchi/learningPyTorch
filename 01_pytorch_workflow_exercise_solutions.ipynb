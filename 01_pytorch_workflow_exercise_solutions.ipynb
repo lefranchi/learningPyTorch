{
 "cells": [
  {
   "cell_type": "markdown",
   "metadata": {
    "id": "view-in-github",
    "colab_type": "text"
   },
   "source": [
    "<a href=\"https://colab.research.google.com/github/mrdbourke/pytorch-deep-learning/blob/main/extras/solutions/01_pytorch_workflow_exercise_solutions.ipynb\" target=\"_parent\"><img src=\"https://colab.research.google.com/assets/colab-badge.svg\" alt=\"Open In Colab\"/></a>"
   ]
  },
  {
   "cell_type": "markdown",
   "metadata": {
    "id": "N8LsPXZti9Sw"
   },
   "source": [
    "# 01. PyTorch Workflow Exercise Solutions\n",
    "\n",
    "The following is a solution notebook for the [PyTorch workflow exercises](https://github.com/mrdbourke/pytorch-deep-learning/blob/main/extras/exercises/01_pytorch_workflow_exercises.ipynb).\n",
    "\n",
    "Because of the flexibility of PyTorch, there may be more than one way to answer the question.\n",
    "\n",
    "Don't worry about trying to be *right* just try writing code that suffices the question."
   ]
  },
  {
   "cell_type": "code",
   "source": [
    "# Show when last updated (for documentation purposes)\n",
    "import datetime\n",
    "print(f\"Last updated: {datetime.datetime.now()}\")"
   ],
   "metadata": {
    "colab": {
     "base_uri": "https://localhost:8080/"
    },
    "id": "HU08b4hLjWfJ",
    "outputId": "a8ece4f3-7733-4094-dbac-fcc96787a136",
    "ExecuteTime": {
     "end_time": "2024-08-15T15:26:42.669929Z",
     "start_time": "2024-08-15T15:26:42.665586Z"
    }
   },
   "outputs": [
    {
     "name": "stdout",
     "output_type": "stream",
     "text": [
      "Last updated: 2024-08-15 12:26:42.668654\n"
     ]
    }
   ],
   "execution_count": 1
  },
  {
   "cell_type": "code",
   "metadata": {
    "id": "Glu2fM4dkNlx",
    "ExecuteTime": {
     "end_time": "2024-08-15T15:26:43.766949Z",
     "start_time": "2024-08-15T15:26:42.737267Z"
    }
   },
   "source": [
    "# Import necessary libraries\n",
    "import torch\n",
    "import matplotlib.pyplot as plt\n",
    "from torch import nn"
   ],
   "outputs": [],
   "execution_count": 2
  },
  {
   "cell_type": "code",
   "metadata": {
    "colab": {
     "base_uri": "https://localhost:8080/",
     "height": 35
    },
    "id": "LqKhXY26m31s",
    "outputId": "39ab2e2f-d4fc-4126-aee9-7c07829881a8",
    "ExecuteTime": {
     "end_time": "2024-08-15T15:26:43.810057Z",
     "start_time": "2024-08-15T15:26:43.804560Z"
    }
   },
   "source": [
    "# Setup device-agnostic code\n",
    "device = \"cuda\" if torch.cuda.is_available() else \"cpu\"\n",
    "device"
   ],
   "outputs": [
    {
     "data": {
      "text/plain": [
       "'cpu'"
      ]
     },
     "execution_count": 3,
     "metadata": {},
     "output_type": "execute_result"
    }
   ],
   "execution_count": 3
  },
  {
   "cell_type": "markdown",
   "metadata": {
    "id": "g7HUhxCxjeBx"
   },
   "source": [
    "## 1. Create a straight line dataset using the linear regression formula (`weight * X + bias`).\n",
    "  * Set `weight=0.3` and `bias=0.9` there should be at least 100 datapoints total. \n",
    "  * Split the data into 80% training, 20% testing.\n",
    "  * Plot the training and testing data so it becomes visual.\n",
    "\n",
    "Your output of the below cell should look something like:\n",
    "```\n",
    "Number of X samples: 100\n",
    "Number of y samples: 100\n",
    "First 10 X & y samples:\n",
    "X: tensor([[0.0000],\n",
    "        [0.0100],\n",
    "        [0.0200],\n",
    "        [0.0300],\n",
    "        [0.0400],\n",
    "        [0.0500],\n",
    "        [0.0600],\n",
    "        [0.0700],\n",
    "        [0.0800],\n",
    "        [0.0900]])\n",
    "y: tensor([[0.9000],\n",
    "        [0.9030],\n",
    "        [0.9060],\n",
    "        [0.9090],\n",
    "        [0.9120],\n",
    "        [0.9150],\n",
    "        [0.9180],\n",
    "        [0.9210],\n",
    "        [0.9240],\n",
    "        [0.9270]])\n",
    "```\n",
    "\n",
    "Of course the numbers in `X` and `y` may be different but ideally they're created using the linear regression formula."
   ]
  },
  {
   "cell_type": "code",
   "metadata": {
    "colab": {
     "base_uri": "https://localhost:8080/"
    },
    "id": "KbDG5MV7jhvE",
    "outputId": "9a81d5bc-8a9f-49d8-8196-b8906312159d",
    "ExecuteTime": {
     "end_time": "2024-08-15T15:26:43.879943Z",
     "start_time": "2024-08-15T15:26:43.873632Z"
    }
   },
   "source": [
    "# Create the data parameters\n",
    "weight = 0.3\n",
    "bias = 0.9\n",
    "# Make X and y using linear regression feature\n",
    "X = torch.arange(0,1,0.01).unsqueeze(dim = 1)\n",
    "y = weight * X + bias\n",
    "print(f\"Number of X samples: {len(X)}\")\n",
    "print(f\"Number of y samples: {len(y)}\")\n",
    "print(f\"First 10 X & y samples:\\nX: {X[:10]}\\ny: {y[:10]}\")"
   ],
   "outputs": [
    {
     "name": "stdout",
     "output_type": "stream",
     "text": [
      "Number of X samples: 100\n",
      "Number of y samples: 100\n",
      "First 10 X & y samples:\n",
      "X: tensor([[0.0000],\n",
      "        [0.0100],\n",
      "        [0.0200],\n",
      "        [0.0300],\n",
      "        [0.0400],\n",
      "        [0.0500],\n",
      "        [0.0600],\n",
      "        [0.0700],\n",
      "        [0.0800],\n",
      "        [0.0900]])\n",
      "y: tensor([[0.9000],\n",
      "        [0.9030],\n",
      "        [0.9060],\n",
      "        [0.9090],\n",
      "        [0.9120],\n",
      "        [0.9150],\n",
      "        [0.9180],\n",
      "        [0.9210],\n",
      "        [0.9240],\n",
      "        [0.9270]])\n"
     ]
    }
   ],
   "execution_count": 4
  },
  {
   "cell_type": "code",
   "metadata": {
    "colab": {
     "base_uri": "https://localhost:8080/"
    },
    "id": "GlwtT1djkmLw",
    "outputId": "b0fce3d0-1b57-4051-a935-c05d40cf2dc7",
    "ExecuteTime": {
     "end_time": "2024-08-15T15:26:43.963381Z",
     "start_time": "2024-08-15T15:26:43.958735Z"
    }
   },
   "source": [
    "# Split the data into training and testing\n",
    "train_split = int(len(X) * 0.8)\n",
    "X_train = X[:train_split]\n",
    "y_train = y[:train_split]\n",
    "X_test = X[train_split:]\n",
    "y_test = y[train_split:]\n",
    "len(X_train),len(y_train),len(X_test),len(y_test)"
   ],
   "outputs": [
    {
     "data": {
      "text/plain": [
       "(80, 80, 20, 20)"
      ]
     },
     "execution_count": 5,
     "metadata": {},
     "output_type": "execute_result"
    }
   ],
   "execution_count": 5
  },
  {
   "cell_type": "code",
   "metadata": {
    "colab": {
     "base_uri": "https://localhost:8080/",
     "height": 428
    },
    "id": "29iQZFNhlYJ-",
    "outputId": "72479e77-f478-4162-ec07-89ede1b72b10",
    "ExecuteTime": {
     "end_time": "2024-08-15T15:26:44.093553Z",
     "start_time": "2024-08-15T15:26:43.980469Z"
    }
   },
   "source": [
    "# Plot the training and testing data \n",
    "def plot_predictions(train_data = X_train,\n",
    "                 train_labels = y_train,\n",
    "                 test_data = X_test,\n",
    "                 test_labels = y_test,\n",
    "                 predictions = None):\n",
    "  plt.figure(figsize = (10,7))\n",
    "  plt.scatter(train_data,train_labels,c = 'b',s = 4,label = \"Training data\")\n",
    "  plt.scatter(test_data,test_labels,c = 'g',s = 4,label = \"Test data\")\n",
    "\n",
    "  if predictions is not None:\n",
    "    plt.scatter(test_data,predictions,c = 'r',s = 4,label = \"Predictions\")\n",
    "  plt.legend(prop = {\"size\" : 14})\n",
    "plot_predictions()"
   ],
   "outputs": [
    {
     "data": {
      "text/plain": [
       "<Figure size 1000x700 with 1 Axes>"
      ],
      "image/png": "[encoded data removed]"
     },
     "metadata": {},
     "output_type": "display_data"
    }
   ],
   "execution_count": 6
  },
  {
   "cell_type": "markdown",
   "metadata": {
    "id": "ImZoe3v8jif8"
   },
   "source": [
    "## 2. Build a PyTorch model by subclassing `nn.Module`. \n",
    "  * Inside should be a randomly initialized `nn.Parameter()` with `requires_grad=True`, one for `weights` and one for `bias`. \n",
    "  * Implement the `forward()` method to compute the linear regression function you used to create the dataset in 1. \n",
    "  * Once you've constructed the model, make an instance of it and check its `state_dict()`.\n",
    "  * **Note:** If you'd like to use `nn.Linear()` instead of `nn.Parameter()` you can."
   ]
  },
  {
   "cell_type": "code",
   "metadata": {
    "colab": {
     "base_uri": "https://localhost:8080/"
    },
    "id": "qzd__Y5rjtB8",
    "outputId": "0c61680e-76ab-465a-e081-7bc8063b4a79",
    "ExecuteTime": {
     "end_time": "2024-08-15T15:26:44.120056Z",
     "start_time": "2024-08-15T15:26:44.110781Z"
    }
   },
   "source": [
    "# Create PyTorch linear regression model by subclassing nn.Module\n",
    "## Option 1\n",
    "class LinearRegressionModel(nn.Module):\n",
    "  def __init__(self):\n",
    "    super().__init__()\n",
    "    self.weight = nn.Parameter(data=torch.randn(1, \n",
    "                                              requires_grad=True,\n",
    "                                              dtype=torch.float\n",
    "                                              ))\n",
    "    \n",
    "    self.bias = nn.Parameter(data=torch.randn(1, \n",
    "                                              requires_grad=True,\n",
    "                                              dtype=torch.float\n",
    "                                              ))\n",
    "\n",
    "  def forward(self, x):\n",
    "    return self.weight * x + self.bias\n",
    "\n",
    "# ## Option 2\n",
    "# class LinearRegressionModel(nn.Module):\n",
    "#   def __init__(self):\n",
    "#     super().__init__()\n",
    "#     self.linear_layer = nn.Linear(in_features = 1,\n",
    "#                                   out_features = 1)\n",
    "#   def forward(self,x : torch.Tensor) -> torch.Tensor:\n",
    "#     return self.linear_layer(x)\n",
    "  \n",
    "torch.manual_seed(42)\n",
    "model_1 = LinearRegressionModel()\n",
    "model_1,model_1.state_dict()"
   ],
   "outputs": [
    {
     "data": {
      "text/plain": [
       "(LinearRegressionModel(),\n",
       " OrderedDict([('weight', tensor([0.3367])), ('bias', tensor([0.1288]))]))"
      ]
     },
     "execution_count": 7,
     "metadata": {},
     "output_type": "execute_result"
    }
   ],
   "execution_count": 7
  },
  {
   "cell_type": "code",
   "metadata": {
    "colab": {
     "base_uri": "https://localhost:8080/"
    },
    "id": "G-yjYL_Rl92t",
    "outputId": "90d2330a-efe1-4b83-ae58-9814adeb76b9",
    "ExecuteTime": {
     "end_time": "2024-08-15T15:26:44.142671Z",
     "start_time": "2024-08-15T15:26:44.137052Z"
    }
   },
   "source": [
    "next(model_1.parameters()).device"
   ],
   "outputs": [
    {
     "data": {
      "text/plain": [
       "device(type='cpu')"
      ]
     },
     "execution_count": 8,
     "metadata": {},
     "output_type": "execute_result"
    }
   ],
   "execution_count": 8
  },
  {
   "cell_type": "code",
   "metadata": {
    "colab": {
     "base_uri": "https://localhost:8080/"
    },
    "id": "5LdcDnmOmyQ2",
    "outputId": "b801eef6-e0a5-4667-a4db-0e841c72d1a9",
    "ExecuteTime": {
     "end_time": "2024-08-15T15:26:44.163349Z",
     "start_time": "2024-08-15T15:26:44.157641Z"
    }
   },
   "source": [
    "# Instantiate the model and put it to the target device\n",
    "model_1.to(device)\n",
    "list(model_1.parameters())"
   ],
   "outputs": [
    {
     "data": {
      "text/plain": [
       "[Parameter containing:\n",
       " tensor([0.3367], requires_grad=True),\n",
       " Parameter containing:\n",
       " tensor([0.1288], requires_grad=True)]"
      ]
     },
     "execution_count": 9,
     "metadata": {},
     "output_type": "execute_result"
    }
   ],
   "execution_count": 9
  },
  {
   "cell_type": "markdown",
   "metadata": {
    "id": "G6nYOrJhjtfu"
   },
   "source": [
    "## 3. Create a loss function and optimizer using `nn.L1Loss()` and `torch.optim.SGD(params, lr)` respectively. \n",
    "  * Set the learning rate of the optimizer to be 0.01 and the parameters to optimize should be the model parameters from the model you created in 2.\n",
    "  * Write a training loop to perform the appropriate training steps for 300 epochs.\n",
    "  * The training loop should test the model on the test dataset every 20 epochs."
   ]
  },
  {
   "cell_type": "code",
   "metadata": {
    "id": "ltvoZ-FWjv1j",
    "ExecuteTime": {
     "end_time": "2024-08-15T15:26:44.592141Z",
     "start_time": "2024-08-15T15:26:44.180418Z"
    }
   },
   "source": [
    "# Create the loss function and optimizer\n",
    "loss_fn = nn.L1Loss()\n",
    "optimizer = torch.optim.SGD(params = model_1.parameters(),\n",
    "                            lr = 0.01)"
   ],
   "outputs": [],
   "execution_count": 10
  },
  {
   "cell_type": "code",
   "metadata": {
    "colab": {
     "base_uri": "https://localhost:8080/"
    },
    "id": "xpE83NvNnkdV",
    "outputId": "460841c8-8f4e-41ec-8645-6b3a062db28d",
    "ExecuteTime": {
     "end_time": "2024-08-15T15:26:44.660252Z",
     "start_time": "2024-08-15T15:26:44.603253Z"
    }
   },
   "source": [
    "# Training loop\n",
    "# Train model for 300 epochs\n",
    "torch.manual_seed(42)\n",
    "\n",
    "epochs = 300\n",
    "\n",
    "# Send data to target device\n",
    "X_train = X_train.to(device)\n",
    "X_test = X_test.to(device)\n",
    "y_train = y_train.to(device)\n",
    "y_test = y_test.to(device)\n",
    "\n",
    "for epoch in range(epochs):\n",
    "  ### Training\n",
    "\n",
    "  # Put model in train mode\n",
    "  model_1.train()\n",
    "\n",
    "  # 1. Forward pass\n",
    "  y_pred = model_1(X_train)\n",
    "\n",
    "  # 2. Calculate loss\n",
    "  loss = loss_fn(y_pred,y_train)\n",
    "\n",
    "  # 3. Zero gradients\n",
    "  optimizer.zero_grad()\n",
    "\n",
    "  # 4. Backpropagation\n",
    "  loss.backward()\n",
    "\n",
    "  # 5. Step the optimizer\n",
    "  optimizer.step()\n",
    "\n",
    "  ### Perform testing every 20 epochs\n",
    "  if epoch % 20 == 0:\n",
    "    # Put model in evaluation mode and setup inference context \n",
    "    model_1.eval()\n",
    "    with torch.inference_mode():\n",
    "      # 1. Forward pass\n",
    "      y_preds = model_1(X_test)\n",
    "      # 2. Calculate test loss\n",
    "      test_loss = loss_fn(y_preds,y_test)\n",
    "      # Print out what's happening\n",
    "      print(f\"Epoch: {epoch} | Train loss: {loss:.3f} | Test loss: {test_loss:.3f}\")"
   ],
   "outputs": [
    {
     "name": "stdout",
     "output_type": "stream",
     "text": [
      "Epoch: 0 | Train loss: 0.757 | Test loss: 0.725\n",
      "Epoch: 20 | Train loss: 0.525 | Test loss: 0.454\n",
      "Epoch: 40 | Train loss: 0.294 | Test loss: 0.183\n",
      "Epoch: 60 | Train loss: 0.077 | Test loss: 0.073\n",
      "Epoch: 80 | Train loss: 0.053 | Test loss: 0.116\n",
      "Epoch: 100 | Train loss: 0.046 | Test loss: 0.105\n",
      "Epoch: 120 | Train loss: 0.039 | Test loss: 0.089\n",
      "Epoch: 140 | Train loss: 0.032 | Test loss: 0.074\n",
      "Epoch: 160 | Train loss: 0.025 | Test loss: 0.058\n",
      "Epoch: 180 | Train loss: 0.018 | Test loss: 0.042\n",
      "Epoch: 200 | Train loss: 0.011 | Test loss: 0.026\n",
      "Epoch: 220 | Train loss: 0.004 | Test loss: 0.009\n",
      "Epoch: 240 | Train loss: 0.004 | Test loss: 0.006\n",
      "Epoch: 260 | Train loss: 0.004 | Test loss: 0.006\n",
      "Epoch: 280 | Train loss: 0.004 | Test loss: 0.006\n"
     ]
    }
   ],
   "execution_count": 11
  },
  {
   "cell_type": "markdown",
   "metadata": {
    "id": "x4j4TM18jwa7"
   },
   "source": [
    "## 4. Make predictions with the trained model on the test data.\n",
    "  * Visualize these predictions against the original training and testing data (**note:** you may need to make sure the predictions are *not* on the GPU if you want to use non-CUDA-enabled libraries such as matplotlib to plot)."
   ]
  },
  {
   "cell_type": "code",
   "metadata": {
    "colab": {
     "base_uri": "https://localhost:8080/"
    },
    "id": "bbMPK5Qjjyx_",
    "outputId": "c93b598c-59d7-41a6-af42-4d74605acf57",
    "ExecuteTime": {
     "end_time": "2024-08-15T15:26:44.679829Z",
     "start_time": "2024-08-15T15:26:44.674171Z"
    }
   },
   "source": [
    "# Make predictions with the model\n",
    "model_1.eval()\n",
    "\n",
    "with torch.inference_mode():\n",
    "  y_preds = model_1(X_test)\n",
    "y_preds"
   ],
   "outputs": [
    {
     "data": {
      "text/plain": [
       "tensor([[1.1464],\n",
       "        [1.1495],\n",
       "        [1.1525],\n",
       "        [1.1556],\n",
       "        [1.1587],\n",
       "        [1.1617],\n",
       "        [1.1648],\n",
       "        [1.1679],\n",
       "        [1.1709],\n",
       "        [1.1740],\n",
       "        [1.1771],\n",
       "        [1.1801],\n",
       "        [1.1832],\n",
       "        [1.1863],\n",
       "        [1.1893],\n",
       "        [1.1924],\n",
       "        [1.1955],\n",
       "        [1.1985],\n",
       "        [1.2016],\n",
       "        [1.2047]])"
      ]
     },
     "execution_count": 12,
     "metadata": {},
     "output_type": "execute_result"
    }
   ],
   "execution_count": 12
  },
  {
   "cell_type": "code",
   "metadata": {
    "colab": {
     "base_uri": "https://localhost:8080/"
    },
    "id": "EUxlAFiCstd5",
    "outputId": "79d88bb0-01da-41d5-f2e4-1f7dc222af4d",
    "ExecuteTime": {
     "end_time": "2024-08-15T15:26:44.910437Z",
     "start_time": "2024-08-15T15:26:44.905415Z"
    }
   },
   "source": [
    "y_preds.cpu()"
   ],
   "outputs": [
    {
     "data": {
      "text/plain": [
       "tensor([[1.1464],\n",
       "        [1.1495],\n",
       "        [1.1525],\n",
       "        [1.1556],\n",
       "        [1.1587],\n",
       "        [1.1617],\n",
       "        [1.1648],\n",
       "        [1.1679],\n",
       "        [1.1709],\n",
       "        [1.1740],\n",
       "        [1.1771],\n",
       "        [1.1801],\n",
       "        [1.1832],\n",
       "        [1.1863],\n",
       "        [1.1893],\n",
       "        [1.1924],\n",
       "        [1.1955],\n",
       "        [1.1985],\n",
       "        [1.2016],\n",
       "        [1.2047]])"
      ]
     },
     "execution_count": 13,
     "metadata": {},
     "output_type": "execute_result"
    }
   ],
   "execution_count": 13
  },
  {
   "cell_type": "code",
   "metadata": {
    "colab": {
     "base_uri": "https://localhost:8080/",
     "height": 428
    },
    "id": "K3BdmQaDpFo8",
    "outputId": "f96069ea-217d-4c03-855e-df4c80162336",
    "ExecuteTime": {
     "end_time": "2024-08-15T15:26:45.066244Z",
     "start_time": "2024-08-15T15:26:44.943874Z"
    }
   },
   "source": [
    "# Plot the predictions (these may need to be on a specific device)\n",
    "plot_predictions(predictions = y_preds.cpu())"
   ],
   "outputs": [
    {
     "data": {
      "text/plain": [
       "<Figure size 1000x700 with 1 Axes>"
      ],
      "image/png": "[encoded data removed]"
     },
     "metadata": {},
     "output_type": "display_data"
    }
   ],
   "execution_count": 14
  },
  {
   "cell_type": "markdown",
   "metadata": {
    "id": "s2OnlMWKjzX8"
   },
   "source": [
    "## 5. Save your trained model's `state_dict()` to file.\n",
    "  * Create a new instance of your model class you made in 2. and load in the `state_dict()` you just saved to it.\n",
    "  * Perform predictions on your test data with the loaded model and confirm they match the original model predictions from 4."
   ]
  },
  {
   "cell_type": "code",
   "metadata": {
    "colab": {
     "base_uri": "https://localhost:8080/"
    },
    "id": "hgxhgD14qr-i",
    "outputId": "aa4e116e-f97b-4c28-e7bb-4b2738369fd7",
    "ExecuteTime": {
     "end_time": "2024-08-15T15:26:45.116882Z",
     "start_time": "2024-08-15T15:26:45.111036Z"
    }
   },
   "source": [
    "from pathlib import Path\n",
    "\n",
    "# 1. Create models directory \n",
    "MODEL_PATH = Path(\"models\")\n",
    "MODEL_PATH.mkdir(parents = True,exist_ok = True)\n",
    "# 2. Create model save path \n",
    "MODEL_NAME = \"01_pytorch_model\"\n",
    "MODEL_SAVE_PATH = MODEL_PATH / MODEL_NAME \n",
    "# 3. Save the model state dict\n",
    "print(f\"Saving model to {MODEL_SAVE_PATH}\")\n",
    "torch.save(obj = model_1.state_dict(),f = MODEL_SAVE_PATH)"
   ],
   "outputs": [
    {
     "name": "stdout",
     "output_type": "stream",
     "text": [
      "Saving model to models/01_pytorch_model\n"
     ]
    }
   ],
   "execution_count": 15
  },
  {
   "cell_type": "code",
   "metadata": {
    "colab": {
     "base_uri": "https://localhost:8080/"
    },
    "id": "P9vTgiLRrJ7T",
    "outputId": "5901a52c-5800-4790-e2d0-e998c2aa2b82",
    "ExecuteTime": {
     "end_time": "2024-08-15T15:26:45.167937Z",
     "start_time": "2024-08-15T15:26:45.160161Z"
    }
   },
   "source": [
    "# Create new instance of model and load saved state dict (make sure to put it on the target device)\n",
    "loaded_model = LinearRegressionModel()\n",
    "loaded_model.load_state_dict(torch.load(f = MODEL_SAVE_PATH))\n",
    "loaded_model.to(device)"
   ],
   "outputs": [
    {
     "name": "stderr",
     "output_type": "stream",
     "text": [
      "/var/folders/xs/4_gzyvlj1t10bt2hx7n1fg3h0000gn/T/ipykernel_37877/1034679306.py:3: FutureWarning: You are using `torch.load` with `weights_only=False` (the current default value), which uses the default pickle module implicitly. It is possible to construct malicious pickle data which will execute arbitrary code during unpickling (See https://github.com/pytorch/pytorch/blob/main/SECURITY.md#untrusted-models for more details). In a future release, the default value for `weights_only` will be flipped to `True`. This limits the functions that could be executed during unpickling. Arbitrary objects will no longer be allowed to be loaded via this mode unless they are explicitly allowlisted by the user via `torch.serialization.add_safe_globals`. We recommend you start setting `weights_only=True` for any use case where you don't have full control of the loaded file. Please open an issue on GitHub for any issues related to this experimental feature.\n",
      "  loaded_model.load_state_dict(torch.load(f = MODEL_SAVE_PATH))\n"
     ]
    },
    {
     "data": {
      "text/plain": [
       "LinearRegressionModel()"
      ]
     },
     "execution_count": 16,
     "metadata": {},
     "output_type": "execute_result"
    }
   ],
   "execution_count": 16
  },
  {
   "cell_type": "code",
   "metadata": {
    "colab": {
     "base_uri": "https://localhost:8080/"
    },
    "id": "8UGX3VebrVtI",
    "outputId": "eef16260-cf11-4895-b726-dedfa4e6b839",
    "ExecuteTime": {
     "end_time": "2024-08-15T15:26:45.195904Z",
     "start_time": "2024-08-15T15:26:45.189243Z"
    }
   },
   "source": [
    "# Make predictions with loaded model and compare them to the previous\n",
    "y_preds_new = loaded_model(X_test)\n",
    "y_preds == y_preds_new"
   ],
   "outputs": [
    {
     "data": {
      "text/plain": [
       "tensor([[True],\n",
       "        [True],\n",
       "        [True],\n",
       "        [True],\n",
       "        [True],\n",
       "        [True],\n",
       "        [True],\n",
       "        [True],\n",
       "        [True],\n",
       "        [True],\n",
       "        [True],\n",
       "        [True],\n",
       "        [True],\n",
       "        [True],\n",
       "        [True],\n",
       "        [True],\n",
       "        [True],\n",
       "        [True],\n",
       "        [True],\n",
       "        [True]])"
      ]
     },
     "execution_count": 17,
     "metadata": {},
     "output_type": "execute_result"
    }
   ],
   "execution_count": 17
  },
  {
   "cell_type": "code",
   "metadata": {
    "colab": {
     "base_uri": "https://localhost:8080/"
    },
    "id": "oQPeILR5_IDS",
    "outputId": "f784320a-f435-4502-d7cc-e66586c40919",
    "ExecuteTime": {
     "end_time": "2024-08-15T15:26:45.252690Z",
     "start_time": "2024-08-15T15:26:45.247727Z"
    }
   },
   "source": [
    "loaded_model.state_dict()"
   ],
   "outputs": [
    {
     "data": {
      "text/plain": [
       "OrderedDict([('weight', tensor([0.3067])), ('bias', tensor([0.9011]))])"
      ]
     },
     "execution_count": 18,
     "metadata": {},
     "output_type": "execute_result"
    }
   ],
   "execution_count": 18
  }
 ],
 "metadata": {
  "accelerator": "GPU",
  "colab": {
   "provenance": [],
   "include_colab_link": true
  },
  "gpuClass": "standard",
  "kernelspec": {
   "display_name": "Python 3",
   "language": "python",
   "name": "python3"
  },
  "language_info": {
   "name": "python",
   "version": "3.10.7 (tags/v3.10.7:6cc6b13, Sep  5 2022, 14:08:36) [MSC v.1933 64 bit (AMD64)]"
  },
  "vscode": {
   "interpreter": {
    "hash": "2dcff298e6fc9f300c172f449ac5b974b753c4428b95c0ffa294019aef922779"
   }
  }
 },
 "nbformat": 4,
 "nbformat_minor": 0
}
