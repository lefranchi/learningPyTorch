{
 "cells": [
  {
   "metadata": {},
   "cell_type": "markdown",
   "source": [
    "# 00. PyTorch Fundamentals¶\n",
    "\n",
    "Link: https://www.learnpytorch.io/00_pytorch_fundamentals/"
   ],
   "id": "f21fcdce0696c31b"
  },
  {
   "metadata": {
    "collapsed": true,
    "ExecuteTime": {
     "end_time": "2024-08-14T11:51:09.062475Z",
     "start_time": "2024-08-14T11:51:08.099720Z"
    }
   },
   "cell_type": "code",
   "outputs": [
    {
     "data": {
      "text/plain": [
       "'2.4.0'"
      ]
     },
     "execution_count": 1,
     "metadata": {},
     "output_type": "execute_result"
    }
   ],
   "execution_count": 1,
   "source": [
    "import torch\n",
    "torch.__version__"
   ],
   "id": "initial_id"
  },
  {
   "metadata": {},
   "cell_type": "markdown",
   "source": "## Tensors",
   "id": "54ecd12203e38e43"
  },
  {
   "metadata": {},
   "cell_type": "markdown",
   "source": "### Scalar",
   "id": "23e23e24a9b0e34"
  },
  {
   "metadata": {
    "ExecuteTime": {
     "end_time": "2024-08-14T11:52:30.189215Z",
     "start_time": "2024-08-14T11:52:30.168408Z"
    }
   },
   "cell_type": "code",
   "outputs": [
    {
     "data": {
      "text/plain": [
       "tensor(7)"
      ]
     },
     "execution_count": 3,
     "metadata": {},
     "output_type": "execute_result"
    }
   ],
   "execution_count": 3,
   "source": [
    "# Scalar\n",
    "scalar = torch.tensor(7)\n",
    "scalar"
   ],
   "id": "7e434f422bd90c55"
  },
  {
   "metadata": {
    "ExecuteTime": {
     "end_time": "2024-08-14T11:53:06.141825Z",
     "start_time": "2024-08-14T11:53:06.137154Z"
    }
   },
   "cell_type": "code",
   "outputs": [
    {
     "data": {
      "text/plain": [
       "0"
      ]
     },
     "execution_count": 4,
     "metadata": {},
     "output_type": "execute_result"
    }
   ],
   "execution_count": 4,
   "source": "scalar.ndim",
   "id": "fbfa243f5b98a470"
  },
  {
   "metadata": {
    "ExecuteTime": {
     "end_time": "2024-08-14T11:53:15.436163Z",
     "start_time": "2024-08-14T11:53:15.432615Z"
    }
   },
   "cell_type": "code",
   "outputs": [
    {
     "data": {
      "text/plain": [
       "7"
      ]
     },
     "execution_count": 5,
     "metadata": {},
     "output_type": "execute_result"
    }
   ],
   "execution_count": 5,
   "source": [
    "# Get the Python number within a tensor (only works with one-element tensors)\n",
    "scalar.item()"
   ],
   "id": "b930af4887fe28b"
  },
  {
   "metadata": {},
   "cell_type": "markdown",
   "source": "### Vector",
   "id": "46c094cb6cb3788d"
  },
  {
   "metadata": {
    "ExecuteTime": {
     "end_time": "2024-08-14T11:53:50.470986Z",
     "start_time": "2024-08-14T11:53:50.464349Z"
    }
   },
   "cell_type": "code",
   "outputs": [
    {
     "data": {
      "text/plain": [
       "tensor([7, 7])"
      ]
     },
     "execution_count": 6,
     "metadata": {},
     "output_type": "execute_result"
    }
   ],
   "execution_count": 6,
   "source": [
    "# Vector\n",
    "vector = torch.tensor([7, 7])\n",
    "vector"
   ],
   "id": "2fca8a9113439754"
  },
  {
   "metadata": {
    "ExecuteTime": {
     "end_time": "2024-08-14T11:53:57.814010Z",
     "start_time": "2024-08-14T11:53:57.805872Z"
    }
   },
   "cell_type": "code",
   "outputs": [
    {
     "data": {
      "text/plain": [
       "1"
      ]
     },
     "execution_count": 7,
     "metadata": {},
     "output_type": "execute_result"
    }
   ],
   "execution_count": 7,
   "source": [
    "# Check the number of dimensions of vector\n",
    "vector.ndim"
   ],
   "id": "70510ab76664d940"
  },
  {
   "metadata": {
    "ExecuteTime": {
     "end_time": "2024-08-14T11:54:06.239229Z",
     "start_time": "2024-08-14T11:54:06.235708Z"
    }
   },
   "cell_type": "code",
   "outputs": [
    {
     "data": {
      "text/plain": [
       "torch.Size([2])"
      ]
     },
     "execution_count": 8,
     "metadata": {},
     "output_type": "execute_result"
    }
   ],
   "execution_count": 8,
   "source": [
    "# Check shape of vector\n",
    "vector.shape"
   ],
   "id": "2675bb05343703b2"
  },
  {
   "metadata": {},
   "cell_type": "markdown",
   "source": "### MATRIX",
   "id": "acb28d897d3830ef"
  },
  {
   "metadata": {
    "ExecuteTime": {
     "end_time": "2024-08-14T11:54:28.175456Z",
     "start_time": "2024-08-14T11:54:28.169577Z"
    }
   },
   "cell_type": "code",
   "outputs": [
    {
     "data": {
      "text/plain": [
       "tensor([[ 7,  8],\n",
       "        [ 9, 10]])"
      ]
     },
     "execution_count": 9,
     "metadata": {},
     "output_type": "execute_result"
    }
   ],
   "execution_count": 9,
   "source": [
    "# Check shape of vector\n",
    "# Matrix\n",
    "MATRIX = torch.tensor([[7, 8],\n",
    "                       [9, 10]])\n",
    "MATRIX"
   ],
   "id": "69931b7e1e23f5fe"
  },
  {
   "metadata": {
    "ExecuteTime": {
     "end_time": "2024-08-14T11:54:36.316816Z",
     "start_time": "2024-08-14T11:54:36.312658Z"
    }
   },
   "cell_type": "code",
   "outputs": [
    {
     "data": {
      "text/plain": [
       "2"
      ]
     },
     "execution_count": 10,
     "metadata": {},
     "output_type": "execute_result"
    }
   ],
   "execution_count": 10,
   "source": [
    "# Check number of dimensions\n",
    "MATRIX.ndim"
   ],
   "id": "4d1e9ec43266144e"
  },
  {
   "metadata": {
    "ExecuteTime": {
     "end_time": "2024-08-14T11:54:43.477705Z",
     "start_time": "2024-08-14T11:54:43.472187Z"
    }
   },
   "cell_type": "code",
   "outputs": [
    {
     "data": {
      "text/plain": [
       "torch.Size([2, 2])"
      ]
     },
     "execution_count": 11,
     "metadata": {},
     "output_type": "execute_result"
    }
   ],
   "execution_count": 11,
   "source": "MATRIX.shape",
   "id": "4dc96b808ad383e9"
  },
  {
   "metadata": {},
   "cell_type": "markdown",
   "source": "### TENSOR",
   "id": "f19334ee1934de80"
  },
  {
   "metadata": {
    "ExecuteTime": {
     "end_time": "2024-08-14T11:57:45.668435Z",
     "start_time": "2024-08-14T11:57:45.662104Z"
    }
   },
   "cell_type": "code",
   "outputs": [
    {
     "data": {
      "text/plain": [
       "tensor([[[[1, 2, 3],\n",
       "          [3, 6, 9],\n",
       "          [3, 6, 9],\n",
       "          [2, 4, 5],\n",
       "          [1, 2, 3],\n",
       "          [3, 6, 9],\n",
       "          [3, 6, 9],\n",
       "          [2, 4, 5]],\n",
       "\n",
       "         [[1, 2, 3],\n",
       "          [3, 6, 9],\n",
       "          [3, 6, 9],\n",
       "          [2, 4, 5],\n",
       "          [1, 2, 3],\n",
       "          [3, 6, 9],\n",
       "          [3, 6, 9],\n",
       "          [2, 4, 5]]]])"
      ]
     },
     "execution_count": 23,
     "metadata": {},
     "output_type": "execute_result"
    }
   ],
   "execution_count": 23,
   "source": [
    "# Tensor\n",
    "TENSOR = torch.tensor([[[[1, 2, 3],\n",
    "                        [3, 6, 9],\n",
    "                        [3, 6, 9],\n",
    "                        [2, 4, 5],\n",
    "                        [1, 2, 3],\n",
    "                        [3, 6, 9],\n",
    "                        [3, 6, 9],\n",
    "                        [2, 4, 5]\n",
    "                        ],\n",
    "                       [[1, 2, 3],\n",
    "                        [3, 6, 9],\n",
    "                        [3, 6, 9],\n",
    "                        [2, 4, 5],\n",
    "                        [1, 2, 3],\n",
    "                        [3, 6, 9],\n",
    "                        [3, 6, 9],\n",
    "                        [2, 4, 5]\n",
    "                        ]]\n",
    "                       ])\n",
    "TENSOR"
   ],
   "id": "7c23bf4255d1e981"
  },
  {
   "metadata": {
    "ExecuteTime": {
     "end_time": "2024-08-14T11:57:47.925468Z",
     "start_time": "2024-08-14T11:57:47.923092Z"
    }
   },
   "cell_type": "code",
   "outputs": [
    {
     "data": {
      "text/plain": [
       "4"
      ]
     },
     "execution_count": 24,
     "metadata": {},
     "output_type": "execute_result"
    }
   ],
   "execution_count": 24,
   "source": [
    "# Check number of dimensions for TENSOR\n",
    "TENSOR.ndim"
   ],
   "id": "7bf323a666f8f2c7"
  },
  {
   "metadata": {
    "ExecuteTime": {
     "end_time": "2024-08-14T11:57:50.794020Z",
     "start_time": "2024-08-14T11:57:50.789603Z"
    }
   },
   "cell_type": "code",
   "outputs": [
    {
     "data": {
      "text/plain": [
       "torch.Size([1, 2, 8, 3])"
      ]
     },
     "execution_count": 25,
     "metadata": {},
     "output_type": "execute_result"
    }
   ],
   "execution_count": 25,
   "source": [
    "# Check shape of TENSOR\n",
    "TENSOR.shape"
   ],
   "id": "e90e5f58c33c56fd"
  },
  {
   "metadata": {},
   "cell_type": "markdown",
   "source": "## Random tensors",
   "id": "129c6f7374eb8a80"
  },
  {
   "metadata": {
    "ExecuteTime": {
     "end_time": "2024-08-14T11:58:08.720318Z",
     "start_time": "2024-08-14T11:58:08.692093Z"
    }
   },
   "cell_type": "code",
   "outputs": [
    {
     "data": {
      "text/plain": [
       "(tensor([[0.2753, 0.2804, 0.1037, 0.9952],\n",
       "         [0.5573, 0.4531, 0.4476, 0.9092],\n",
       "         [0.6288, 0.2723, 0.6390, 0.2159]]),\n",
       " torch.float32)"
      ]
     },
     "execution_count": 26,
     "metadata": {},
     "output_type": "execute_result"
    }
   ],
   "execution_count": 26,
   "source": [
    "# Create a random tensor of size (3, 4)\n",
    "random_tensor = torch.rand(size=(3, 4))\n",
    "random_tensor, random_tensor.dtype"
   ],
   "id": "c584a2ea1d2aa9f6"
  },
  {
   "metadata": {
    "ExecuteTime": {
     "end_time": "2024-08-14T11:58:20.949095Z",
     "start_time": "2024-08-14T11:58:20.944054Z"
    }
   },
   "cell_type": "code",
   "outputs": [
    {
     "data": {
      "text/plain": [
       "(torch.Size([224, 224, 3]), 3)"
      ]
     },
     "execution_count": 27,
     "metadata": {},
     "output_type": "execute_result"
    }
   ],
   "execution_count": 27,
   "source": [
    "# Create a random tensor of size (224, 224, 3)\n",
    "random_image_size_tensor = torch.rand(size=(224, 224, 3))\n",
    "random_image_size_tensor.shape, random_image_size_tensor.ndim"
   ],
   "id": "9144396130370bea"
  },
  {
   "metadata": {},
   "cell_type": "markdown",
   "source": "## Zeros and ones",
   "id": "6b49d2d200bb972f"
  },
  {
   "metadata": {
    "ExecuteTime": {
     "end_time": "2024-08-14T11:58:46.591460Z",
     "start_time": "2024-08-14T11:58:46.585657Z"
    }
   },
   "cell_type": "code",
   "outputs": [
    {
     "data": {
      "text/plain": [
       "(tensor([[0., 0., 0., 0.],\n",
       "         [0., 0., 0., 0.],\n",
       "         [0., 0., 0., 0.]]),\n",
       " torch.float32)"
      ]
     },
     "execution_count": 28,
     "metadata": {},
     "output_type": "execute_result"
    }
   ],
   "execution_count": 28,
   "source": [
    "# Create a tensor of all zeros\n",
    "zeros = torch.zeros(size=(3, 4))\n",
    "zeros, zeros.dtype"
   ],
   "id": "73c4ffe4e2f1d099"
  },
  {
   "metadata": {
    "ExecuteTime": {
     "end_time": "2024-08-14T11:58:56.853003Z",
     "start_time": "2024-08-14T11:58:56.847310Z"
    }
   },
   "cell_type": "code",
   "outputs": [
    {
     "data": {
      "text/plain": [
       "(tensor([[1., 1., 1., 1.],\n",
       "         [1., 1., 1., 1.],\n",
       "         [1., 1., 1., 1.]]),\n",
       " torch.float32)"
      ]
     },
     "execution_count": 29,
     "metadata": {},
     "output_type": "execute_result"
    }
   ],
   "execution_count": 29,
   "source": [
    "# Create a tensor of all ones\n",
    "ones = torch.ones(size=(3, 4))\n",
    "ones, ones.dtype"
   ],
   "id": "3b49d666038ed0cd"
  }
 ],
 "metadata": {
  "kernelspec": {
   "display_name": "Python 3",
   "language": "python",
   "name": "python3"
  },
  "language_info": {
   "codemirror_mode": {
    "name": "ipython",
    "version": 2
   },
   "file_extension": ".py",
   "mimetype": "text/x-python",
   "name": "python",
   "nbconvert_exporter": "python",
   "pygments_lexer": "ipython2",
   "version": "2.7.6"
  }
 },
 "nbformat": 4,
 "nbformat_minor": 5
}
